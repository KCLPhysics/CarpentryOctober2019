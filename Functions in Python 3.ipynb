{
 "cells": [
  {
   "cell_type": "markdown",
   "metadata": {
    "cell_style": "center",
    "slideshow": {
     "slide_type": "slide"
    }
   },
   "source": [
    "# Functions in Python 3\n",
    "\n",
    "<br>\n",
    "\n",
    "**Paul Smith**"
   ]
  },
  {
   "cell_type": "markdown",
   "metadata": {
    "cell_style": "center",
    "slideshow": {
     "slide_type": "slide"
    }
   },
   "source": [
    "#### 1. Anatomy of a function\n",
    "#### 2. Pass by reference or pass by value?\n",
    "#### 3. Arguments and return values\n",
    "#### 4. Re-using functions"
   ]
  },
  {
   "cell_type": "markdown",
   "metadata": {
    "slideshow": {
     "slide_type": "slide"
    }
   },
   "source": [
    "#### 1. Anatomy of a function"
   ]
  },
  {
   "cell_type": "raw",
   "metadata": {
    "cell_style": "center",
    "slideshow": {
     "slide_type": "fragment"
    }
   },
   "source": [
    "def <<function name>>(<<arguments>>):\n",
    "    \"\"\"<<Docstring>>\n",
    "    \"\"\"\n",
    "    \n",
    "    <<function body>>\n",
    "    \n",
    "    return <<return value>>"
   ]
  },
  {
   "cell_type": "code",
   "execution_count": null,
   "metadata": {
    "cell_style": "center",
    "slideshow": {
     "slide_type": "fragment"
    }
   },
   "outputs": [],
   "source": [
    "def factorial(n:int) -> int:\n",
    "    \"\"\"Calculate the factorial of a positive integer.\n",
    "    \"\"\"\n",
    "    \n",
    "    if n < 2:\n",
    "        return 1\n",
    "    else:\n",
    "        return n * factorial(n-1)\n",
    "    "
   ]
  },
  {
   "cell_type": "markdown",
   "metadata": {
    "slideshow": {
     "slide_type": "slide"
    }
   },
   "source": [
    "#### 1. Anatomy of a function"
   ]
  },
  {
   "cell_type": "markdown",
   "metadata": {
    "cell_style": "center",
    "slideshow": {
     "slide_type": "fragment"
    }
   },
   "source": [
    "Function annotations (i.e specifying the type of each argument and the return value) are useful for quickly indicating required input types.\n",
    "\n",
    "However, they have no semantic meaning - the types are not enforced at runtime."
   ]
  },
  {
   "cell_type": "code",
   "execution_count": null,
   "metadata": {
    "cell_style": "center",
    "slideshow": {
     "slide_type": "fragment"
    }
   },
   "outputs": [],
   "source": [
    "help(factorial)"
   ]
  },
  {
   "cell_type": "markdown",
   "metadata": {
    "slideshow": {
     "slide_type": "slide"
    }
   },
   "source": [
    "#### 2. Pass by reference or pass by value?"
   ]
  },
  {
   "cell_type": "markdown",
   "metadata": {
    "slideshow": {
     "slide_type": "fragment"
    }
   },
   "source": [
    "#### Pass by reference:\n",
    "    The actual object is passed and modified in place"
   ]
  },
  {
   "cell_type": "markdown",
   "metadata": {
    "slideshow": {
     "slide_type": "fragment"
    }
   },
   "source": [
    "#### Pass by value:\n",
    "    A copy of the object is passed and the original is not modified"
   ]
  },
  {
   "cell_type": "markdown",
   "metadata": {
    "slideshow": {
     "slide_type": "slide"
    }
   },
   "source": [
    "**Exercise** \n",
    "\n",
    "Are arguments passed by reference or by value in python?\n",
    "\n",
    "Create two functions: one that takes an integer then doubles it and returns `None`; a second that takes a list as an argument, appends the word \"Hello\" to it and returns `None`."
   ]
  },
  {
   "cell_type": "markdown",
   "metadata": {
    "slideshow": {
     "slide_type": "slide"
    }
   },
   "source": [
    "#### Values in python are passed by **reference to the object value**\n",
    "\n",
    "Within the function, a **local variable is created** that points to the **same location in memory** as the arugment passed to the function.\n",
    "\n",
    "If this variable is **immutable** (e.g a string, integer, float), when modified within the function it will now **point to a new location in memory**.\n",
    "\n",
    "If, however, the variable is **mutable** (e.g a list, set or dictionary), when modified within the function **the original variable is also modified**, as they continue to point to the same place in memory"
   ]
  },
  {
   "cell_type": "markdown",
   "metadata": {
    "slideshow": {
     "slide_type": "slide"
    }
   },
   "source": [
    "#### 3. Arguments and return values"
   ]
  },
  {
   "cell_type": "code",
   "execution_count": null,
   "metadata": {
    "cell_style": "center",
    "slideshow": {
     "slide_type": "fragment"
    }
   },
   "outputs": [],
   "source": [
    "def unique(elements, return_counts=False):\n",
    "    \"\"\"Find the unique elements in a list.\n",
    "    Also return the frequency of occurance\n",
    "    if return_counts is True.\n",
    "    \"\"\"\n",
    "    \n",
    "    unique_elements = {}\n",
    "    for element in elements:\n",
    "        if element in unique_elements:\n",
    "            unique_elements[element] += 1\n",
    "        else:\n",
    "            unique_elements[element] = 1\n",
    "\n",
    "    if return_counts:\n",
    "        return list(unique_elements.keys()), list(unique_elements.values())\n",
    "    else:\n",
    "        return list(unique_elements.keys())\n"
   ]
  },
  {
   "cell_type": "code",
   "execution_count": null,
   "metadata": {},
   "outputs": [],
   "source": [
    "unique_elements, counts = unique([1, 1, 1, 2, 3, 4, \"five\", \"five\" ], return_counts=True)\n",
    "\n",
    "print(f\"Unique elements: {unique_elements}\")\n",
    "print(f\"Counts: {counts}\")"
   ]
  },
  {
   "cell_type": "markdown",
   "metadata": {
    "cell_style": "center",
    "slideshow": {
     "slide_type": "fragment"
    }
   },
   "source": [
    "#### Required arguments [`elements`]\n",
    "If missing in the function call, a TypeError is thrown.\n",
    "\n",
    "#### Optional arguments [`return_counts`]\n",
    "Have default values that will be used if no value is passed in the function call.\n",
    "\n",
    "#### Multiple return values\n",
    "A tuple of values can be returned by a function."
   ]
  },
  {
   "cell_type": "markdown",
   "metadata": {
    "slideshow": {
     "slide_type": "slide"
    }
   },
   "source": [
    "#### 3. Arguments and return values"
   ]
  },
  {
   "cell_type": "markdown",
   "metadata": {
    "cell_style": "center",
    "slideshow": {
     "slide_type": "fragment"
    }
   },
   "source": [
    "An arbitrary number of positional (`*args`) and keyword (`**kwargs`) can be passed to a function.\n",
    "\n",
    "Positional arguments are stored in a tuple.\n",
    "\n",
    "Keyword arguments are stored in a dictionary."
   ]
  },
  {
   "cell_type": "code",
   "execution_count": null,
   "metadata": {
    "cell_style": "center",
    "slideshow": {
     "slide_type": "fragment"
    }
   },
   "outputs": [],
   "source": [
    "def func(*args, **kwargs):\n",
    "    \n",
    "    print(type(args), args)\n",
    "    print(type(kwargs), kwargs)\n",
    "    \n",
    "    return"
   ]
  },
  {
   "cell_type": "code",
   "execution_count": null,
   "metadata": {
    "cell_style": "center",
    "slideshow": {
     "slide_type": "fragment"
    }
   },
   "outputs": [],
   "source": [
    "func(1, 2, 3, 4, kw_one=5, kw_two=6)"
   ]
  },
  {
   "cell_type": "markdown",
   "metadata": {
    "cell_style": "center",
    "slideshow": {
     "slide_type": "slide"
    }
   },
   "source": [
    "#### 4. Re-using functions"
   ]
  },
  {
   "cell_type": "markdown",
   "metadata": {
    "cell_style": "center",
    "slideshow": {
     "slide_type": "fragment"
    }
   },
   "source": [
    "Functions written to a file with a `.py`extension, and stored in the current working directory, can be imported in a script. The file with a `.py` extension is called a python module."
   ]
  },
  {
   "cell_type": "code",
   "execution_count": null,
   "metadata": {
    "cell_style": "center",
    "slideshow": {
     "slide_type": "fragment"
    }
   },
   "outputs": [],
   "source": [
    "from string_utils import concat\n",
    "\n",
    "concat(\"Hello\", \"World\", sep=\" \")"
   ]
  },
  {
   "cell_type": "markdown",
   "metadata": {
    "slideshow": {
     "slide_type": "fragment"
    }
   },
   "source": [
    "**Exercise** \n",
    "\n",
    "Create a python module named `string_utils` that contains a function named `concat`.\n",
    "\n",
    "The function should take an arbitrary number of strings to concatenate. An optional `sep` keyword, with a default value of `\"-\"` should be used to separate the strings to be concatenated."
   ]
  },
  {
   "cell_type": "markdown",
   "metadata": {
    "slideshow": {
     "slide_type": "slide"
    }
   },
   "source": [
    "# Summary \n",
    "#### Values in python are passed by reference to the object value:\n",
    "* mutable objects (lists, sets, dictionaries) will be modified\n",
    "* immutable objects (strings, ints, floats) will not be modified or reassigned\n",
    "\n",
    "#### Arbitrary number of arguments, multiple return values\n",
    "\n",
    "#### Easy to re-use functions in new scripts\n",
    "\n",
    "#### Other resources:\n",
    "* http://swcarpentry.github.io/python-novice-inflammation/06-func/index.html\n",
    "* https://docs.python.org/3/tutorial/controlflow.html#defining-functions\n",
    "* https://packaging.python.org/tutorials/packaging-projects/"
   ]
  }
 ],
 "metadata": {
  "celltoolbar": "Slideshow",
  "kernelspec": {
   "display_name": "Python [conda env:py3]",
   "language": "python",
   "name": "conda-env-py3-py"
  },
  "language_info": {
   "codemirror_mode": {
    "name": "ipython",
    "version": 3
   },
   "file_extension": ".py",
   "mimetype": "text/x-python",
   "name": "python",
   "nbconvert_exporter": "python",
   "pygments_lexer": "ipython3",
   "version": "3.7.3"
  },
  "toc": {
   "base_numbering": 1,
   "nav_menu": {},
   "number_sections": false,
   "sideBar": true,
   "skip_h1_title": false,
   "title_cell": "Table of Contents",
   "title_sidebar": "Contents",
   "toc_cell": false,
   "toc_position": {
    "height": "calc(100% - 180px)",
    "left": "10px",
    "top": "150px",
    "width": "232.4px"
   },
   "toc_section_display": true,
   "toc_window_display": false
  }
 },
 "nbformat": 4,
 "nbformat_minor": 2
}
